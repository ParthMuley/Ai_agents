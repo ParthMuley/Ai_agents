{
 "cells": [
  {
   "cell_type": "code",
   "id": "initial_id",
   "metadata": {
    "collapsed": true,
    "ExecuteTime": {
     "end_time": "2025-09-01T20:43:52.400057Z",
     "start_time": "2025-09-01T20:43:50.453744Z"
    }
   },
   "source": [
    "import os\n",
    "from autogen import AssistantAgent, ConversableAgent, UserProxyAgent"
   ],
   "outputs": [],
   "execution_count": 1
  },
  {
   "metadata": {
    "ExecuteTime": {
     "end_time": "2025-09-01T20:43:52.406581Z",
     "start_time": "2025-09-01T20:43:52.404147Z"
    }
   },
   "cell_type": "code",
   "source": [
    "config_list=[\n",
    "    {\"model\":\"Qwen3\",\n",
    "     \"base_url\":\"http://localhost:11434/v1\",\n",
    "     \"api_key\":\"ollama\",\n",
    "     \"price\":[0,0]},\n",
    "]\n",
    "llm_config={'config_list':config_list}"
   ],
   "id": "2c17856845e29fcc",
   "outputs": [],
   "execution_count": 2
  },
  {
   "metadata": {
    "ExecuteTime": {
     "end_time": "2025-09-01T20:43:52.418926Z",
     "start_time": "2025-09-01T20:43:52.409272Z"
    }
   },
   "cell_type": "code",
   "source": [
    "from typing import Annotated, Literal\n",
    "\n",
    "Operator= Literal[\"+\",\"-\",\"*\",\"/\"]\n",
    "\n",
    "def calculator(a:int, b:int, operator:Annotated[Operator,\"operator\"]) -> int:\n",
    "    if operator==\"+\":\n",
    "        return a + b\n",
    "    elif operator==\"-\":\n",
    "        return a - b\n",
    "    elif operator==\"*\":\n",
    "        return a * b\n",
    "    elif operator==\"/\":\n",
    "        return int(a / b)\n",
    "    else:\n",
    "        raise ValueError(f\"Unknown operator {operator}\")"
   ],
   "id": "3c7977e1a89e7993",
   "outputs": [],
   "execution_count": 3
  },
  {
   "metadata": {
    "ExecuteTime": {
     "end_time": "2025-09-01T20:43:52.638198Z",
     "start_time": "2025-09-01T20:43:52.427155Z"
    }
   },
   "cell_type": "code",
   "source": [
    "#let's define the assistant agent that suggests tools calls.\n",
    "assistant=ConversableAgent(\n",
    "    name=\"Assistant\",\n",
    "    system_message=\"You are a helpful AI assistant. you can help with simple calculation. Return 'TERMINATE' when the task is done.\",\n",
    "    llm_config=llm_config,\n",
    ")"
   ],
   "id": "cbbdc154deb7fc0a",
   "outputs": [],
   "execution_count": 4
  },
  {
   "metadata": {
    "ExecuteTime": {
     "end_time": "2025-09-01T20:43:52.643331Z",
     "start_time": "2025-09-01T20:43:52.641372Z"
    }
   },
   "cell_type": "code",
   "source": [
    "#The user proxy agent is used for interacting with assistant agent and execute tool calls.\n",
    "user=ConversableAgent(\n",
    "    name=\"User\",\n",
    "    llm_config=False,\n",
    "    is_termination_msg=lambda msg:msg.get(\"content\") is not None and \"TERMINATE\" in msg[\"content\"],\n",
    "    human_input_mode=\"NEVER\",\n",
    ")"
   ],
   "id": "5aabd3f858636b82",
   "outputs": [],
   "execution_count": 5
  },
  {
   "metadata": {
    "ExecuteTime": {
     "end_time": "2025-09-01T20:43:52.842780Z",
     "start_time": "2025-09-01T20:43:52.646216Z"
    }
   },
   "cell_type": "code",
   "source": [
    "#Register the tool signature with assistant agent\n",
    "assistant.register_for_llm(name=\"calculator\",description=\"A simple calculator\")(calculator)\n",
    "\n",
    "#Register the tool function with the user proxy agent.\n",
    "user.register_for_execution(name=\"calculator\")(calculator)"
   ],
   "id": "41564c9a06a94320",
   "outputs": [
    {
     "data": {
      "text/plain": [
       "<autogen.tools.tool.Tool at 0x1fad8bdfb10>"
      ]
     },
     "execution_count": 6,
     "metadata": {},
     "output_type": "execute_result"
    }
   ],
   "execution_count": 6
  },
  {
   "metadata": {
    "ExecuteTime": {
     "end_time": "2025-09-01T20:43:53.118845Z",
     "start_time": "2025-09-01T20:43:52.853180Z"
    }
   },
   "cell_type": "code",
   "source": [
    "from autogen import register_function\n",
    "#Register the calculator function to two agent\n",
    "register_function(\n",
    "    calculator,\n",
    "    caller=assistant, #the assistant agent can suggest calls to the calculator.\n",
    "    executor=user,#the user proxy agent can execute the calculator calls.\n",
    "    name=\"Calculator\", #by default the function name is used as the tool name.\n",
    "    description=\"A simple calculator\",#A description of the tool\n",
    ")"
   ],
   "id": "402ab96ec62b910e",
   "outputs": [],
   "execution_count": 7
  },
  {
   "metadata": {
    "ExecuteTime": {
     "end_time": "2025-09-01T20:47:47.256606Z",
     "start_time": "2025-09-01T20:47:47.251291Z"
    }
   },
   "cell_type": "code",
   "source": [
    "import math\n",
    "\n",
    "def evaluate_expression(expression: str) -> str:\n",
    "    \"\"\"Evaluate a math expression safely and return the result.\"\"\"\n",
    "    try:\n",
    "        # Define a safe set of functions/names\n",
    "        allowed_names = {k: v for k, v in math.__dict__.items() if not k.startswith(\"__\")}\n",
    "        # Evaluate with limited globals\n",
    "        result = eval(expression, {\"__builtins__\": {}}, allowed_names)\n",
    "        return f\"The result of {expression} is {result}\"\n",
    "    except Exception as e:\n",
    "        return f\"Error evaluating expression: {e}\"\n"
   ],
   "id": "408862adc280ac23",
   "outputs": [],
   "execution_count": 9
  },
  {
   "metadata": {
    "ExecuteTime": {
     "end_time": "2025-09-01T20:48:33.649126Z",
     "start_time": "2025-09-01T20:48:33.397971Z"
    }
   },
   "cell_type": "code",
   "source": [
    "\n",
    "register_function(\n",
    "    evaluate_expression,\n",
    "    caller=assistant,\n",
    "    executor=user,\n",
    "    description=\"Evaluate a math expression safely\",\n",
    ")\n"
   ],
   "id": "862d02780dbadbd1",
   "outputs": [],
   "execution_count": 12
  },
  {
   "metadata": {
    "ExecuteTime": {
     "end_time": "2025-09-01T20:48:53.071656Z",
     "start_time": "2025-09-01T20:48:35.557882Z"
    }
   },
   "cell_type": "code",
   "source": [
    "result = user.initiate_chat(\n",
    "    assistant,\n",
    "    message=\"What is (44232+13312/(232-32))*5?\",\n",
    ")\n",
    "print(result)\n"
   ],
   "id": "dd6d45eab435a78",
   "outputs": [
    {
     "name": "stdout",
     "output_type": "stream",
     "text": [
      "\u001B[33mUser\u001B[0m (to Assistant):\n",
      "\n",
      "What is (44232+13312/(232-32))*5?\n",
      "\n",
      "--------------------------------------------------------------------------------\n",
      "\u001B[31m\n",
      ">>>>>>>> USING AUTO REPLY...\u001B[0m\n",
      "\u001B[33mAssistant\u001B[0m (to User):\n",
      "\n",
      "<think>\n",
      "Okay, let's see. The user is asking for the result of this expression: (44232 + 13312/(232 - 32)) * 5. Hmm, I need to calculate this step by step. First, I should handle the operations inside the parentheses. The denominator here is 232 - 32. Let me compute that first. 232 minus 32 is 200. So now the expression becomes (44232 + 13312/200) * 5.\n",
      "\n",
      "Next, I need to do the division: 13312 divided by 200. Let me calculate that. 13312 divided by 200 equals 66.56. So now the expression is (44232 + 66.56) * 5. Adding those together gives 44298.56. Then multiply by 5. Let me check that multiplication: 44298.56 * 5 equals 221,492.8. \n",
      "\n",
      "Wait, but maybe I should use the evaluate_expression function to make sure it's done correctly, especially since there are multiple operations and order of operations matters. The function can handle the entire expression at once, which might be more accurate. Let me make sure the expression is formatted correctly as a string. The original expression is (44232+13312/(232-32))*5. So I'll pass that string to the evaluate_expression function to get the precise result.\n",
      "</think>\n",
      "\n",
      "\n",
      "\u001B[32m***** Suggested tool call (call_rhfriaof): evaluate_expression *****\u001B[0m\n",
      "Arguments: \n",
      "{\"expression\":\"(44232+13312/(232-32))*5\"}\n",
      "\u001B[32m********************************************************************\u001B[0m\n",
      "\n",
      "--------------------------------------------------------------------------------\n",
      "\u001B[35m\n",
      ">>>>>>>> EXECUTING FUNCTION evaluate_expression...\n",
      "Call ID: call_rhfriaof\n",
      "Input arguments: {'expression': '(44232+13312/(232-32))*5'}\u001B[0m\n",
      "\u001B[35m\n",
      ">>>>>>>> EXECUTED FUNCTION evaluate_expression...\n",
      "Call ID: call_rhfriaof\n",
      "Input arguments: {'expression': '(44232+13312/(232-32))*5'}\n",
      "Output:\n",
      "The result of (44232+13312/(232-32))*5 is 221492.8\u001B[0m\n",
      "\u001B[33mUser\u001B[0m (to Assistant):\n",
      "\n",
      "\u001B[32m***** Response from calling tool (call_rhfriaof) *****\u001B[0m\n",
      "The result of (44232+13312/(232-32))*5 is 221492.8\n",
      "\u001B[32m******************************************************\u001B[0m\n",
      "\n",
      "--------------------------------------------------------------------------------\n",
      "\u001B[31m\n",
      ">>>>>>>> USING AUTO REPLY...\u001B[0m\n",
      "\u001B[33mAssistant\u001B[0m (to User):\n",
      "\n",
      "<think>\n",
      "Okay, let me check the calculation again to be sure. First, calculate the denominator: 232 - 32 = 200. Then, 13312 divided by 200 is 66.56. Add that to 44232: 44232 + 66.56 = 44298.56. Multiply by 5: 44298.56 * 5 = 221,492.8. Yep, that matches the result from the function. So the answer is correct.\n",
      "</think>\n",
      "\n",
      "The result of the expression $(44232 + \\frac{13312}{232 - 32}) \\times 5$ is **221,492.8**.\n",
      "\n",
      "TERMINATE\n",
      "\n",
      "--------------------------------------------------------------------------------\n",
      "\u001B[31m\n",
      ">>>>>>>> TERMINATING RUN (dc18e2f4-ddf2-4967-b397-4dac70615570): Termination message condition on agent 'User' met\u001B[0m\n",
      "ChatResult(chat_id=None, chat_history=[{'content': 'What is (44232+13312/(232-32))*5?', 'role': 'assistant', 'name': 'User'}, {'content': \"<think>\\nOkay, let's see. The user is asking for the result of this expression: (44232 + 13312/(232 - 32)) * 5. Hmm, I need to calculate this step by step. First, I should handle the operations inside the parentheses. The denominator here is 232 - 32. Let me compute that first. 232 minus 32 is 200. So now the expression becomes (44232 + 13312/200) * 5.\\n\\nNext, I need to do the division: 13312 divided by 200. Let me calculate that. 13312 divided by 200 equals 66.56. So now the expression is (44232 + 66.56) * 5. Adding those together gives 44298.56. Then multiply by 5. Let me check that multiplication: 44298.56 * 5 equals 221,492.8. \\n\\nWait, but maybe I should use the evaluate_expression function to make sure it's done correctly, especially since there are multiple operations and order of operations matters. The function can handle the entire expression at once, which might be more accurate. Let me make sure the expression is formatted correctly as a string. The original expression is (44232+13312/(232-32))*5. So I'll pass that string to the evaluate_expression function to get the precise result.\\n</think>\\n\\n\", 'tool_calls': [{'id': 'call_rhfriaof', 'function': {'arguments': '{\"expression\":\"(44232+13312/(232-32))*5\"}', 'name': 'evaluate_expression'}, 'type': 'function', 'index': 0}], 'role': 'assistant'}, {'content': 'The result of (44232+13312/(232-32))*5 is 221492.8', 'tool_responses': [{'tool_call_id': 'call_rhfriaof', 'role': 'tool', 'content': 'The result of (44232+13312/(232-32))*5 is 221492.8'}], 'role': 'tool', 'name': 'User'}, {'content': '<think>\\nOkay, let me check the calculation again to be sure. First, calculate the denominator: 232 - 32 = 200. Then, 13312 divided by 200 is 66.56. Add that to 44232: 44232 + 66.56 = 44298.56. Multiply by 5: 44298.56 * 5 = 221,492.8. Yep, that matches the result from the function. So the answer is correct.\\n</think>\\n\\nThe result of the expression $(44232 + \\\\frac{13312}{232 - 32}) \\\\times 5$ is **221,492.8**.\\n\\nTERMINATE', 'role': 'user', 'name': 'Assistant'}], summary='<think>\\nOkay, let me check the calculation again to be sure. First, calculate the denominator: 232 - 32 = 200. Then, 13312 divided by 200 is 66.56. Add that to 44232: 44232 + 66.56 = 44298.56. Multiply by 5: 44298.56 * 5 = 221,492.8. Yep, that matches the result from the function. So the answer is correct.\\n</think>\\n\\nThe result of the expression $(44232 + \\\\frac{13312}{232 - 32}) \\\\times 5$ is **221,492.8**.\\n\\n', cost={'usage_including_cached_inference': {'total_cost': 0.0, 'Qwen3': {'cost': 0.0, 'prompt_tokens': 1091, 'completion_tokens': 580, 'total_tokens': 1671}}, 'usage_excluding_cached_inference': {'total_cost': 0.0, 'Qwen3': {'cost': 0.0, 'prompt_tokens': 1091, 'completion_tokens': 580, 'total_tokens': 1671}}}, human_input=[])\n"
     ]
    }
   ],
   "execution_count": 13
  }
 ],
 "metadata": {
  "kernelspec": {
   "display_name": "Python 3",
   "language": "python",
   "name": "python3"
  },
  "language_info": {
   "codemirror_mode": {
    "name": "ipython",
    "version": 2
   },
   "file_extension": ".py",
   "mimetype": "text/x-python",
   "name": "python",
   "nbconvert_exporter": "python",
   "pygments_lexer": "ipython2",
   "version": "2.7.6"
  }
 },
 "nbformat": 4,
 "nbformat_minor": 5
}
