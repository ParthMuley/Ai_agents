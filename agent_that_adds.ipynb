{
 "cells": [
  {
   "metadata": {},
   "cell_type": "code",
   "source": "!pip install ag2[openai]",
   "id": "55253c9785a7ead7",
   "outputs": [],
   "execution_count": null
  },
  {
   "cell_type": "code",
   "id": "initial_id",
   "metadata": {
    "collapsed": true,
    "ExecuteTime": {
     "end_time": "2025-09-01T20:36:56.369758Z",
     "start_time": "2025-09-01T20:36:54.914912Z"
    }
   },
   "source": "from autogen import AssistantAgent, UserProxyAgent, register_function, ConversableAgent",
   "outputs": [],
   "execution_count": 1
  },
  {
   "metadata": {
    "ExecuteTime": {
     "end_time": "2025-09-01T20:38:13.022089800Z",
     "start_time": "2025-09-01T20:36:57.132901Z"
    }
   },
   "cell_type": "code",
   "source": [
    "config_list=[\n",
    "    {\"model\":\"Qwen3\",\n",
    "     \"base_url\":\"http://localhost:11434/v1\",\n",
    "     \"api_key\":\"ollama\",\n",
    "     \"price\": [0, 0]},\n",
    "]\n",
    "llm_config={'config_list':config_list}"
   ],
   "id": "97b69b1cb8d1a299",
   "outputs": [],
   "execution_count": 2
  },
  {
   "metadata": {
    "ExecuteTime": {
     "end_time": "2025-09-01T20:39:27.078025Z",
     "start_time": "2025-09-01T20:39:26.643307Z"
    }
   },
   "cell_type": "code",
   "source": [
    "assistant=AssistantAgent(\"assistant\",\n",
    "                         system_message=\"You are a helpful AI assistant. you can help with simple calculation. Return 'TERMINATE' when the task is done.\",\n",
    "                         llm_config=llm_config)\n",
    "user=ConversableAgent(\"user\",\n",
    "                      is_termination_msg=lambda msg:msg.get(\"content\") is not None and \"TERMINATE\" in msg[\"content\"],\n",
    "                      llm_config=llm_config)"
   ],
   "id": "c1e44186587110f8",
   "outputs": [],
   "execution_count": 8
  },
  {
   "metadata": {
    "ExecuteTime": {
     "end_time": "2025-09-01T20:37:00.447707Z",
     "start_time": "2025-09-01T20:37:00.444396Z"
    }
   },
   "cell_type": "code",
   "source": [
    "def add_number(a: int, b: int) -> int:\n",
    "    return a + b"
   ],
   "id": "195f86e3401192bb",
   "outputs": [],
   "execution_count": 4
  },
  {
   "metadata": {
    "ExecuteTime": {
     "end_time": "2025-09-01T20:37:01.730244Z",
     "start_time": "2025-09-01T20:37:01.529276Z"
    }
   },
   "cell_type": "code",
   "source": [
    "register_function(\n",
    "                    add_number,\n",
    "                   caller=assistant,\n",
    "                   executor=user,\n",
    "                   description=\"adds two number\",\n",
    "                   )"
   ],
   "id": "babb6565741a4f79",
   "outputs": [],
   "execution_count": 5
  },
  {
   "metadata": {
    "ExecuteTime": {
     "end_time": "2025-09-01T20:39:44.639521Z",
     "start_time": "2025-09-01T20:39:29.852999Z"
    }
   },
   "cell_type": "code",
   "source": [
    "result = user.initiate_chat(\n",
    "    assistant,\n",
    "    message=\"What’s 3 + 5?\",\n",
    ")\n",
    "print(result)\n"
   ],
   "id": "ef09f07b871f4f0d",
   "outputs": [
    {
     "name": "stdout",
     "output_type": "stream",
     "text": [
      "\u001B[33muser\u001B[0m (to assistant):\n",
      "\n",
      "What’s 3 + 5?\n",
      "\n",
      "--------------------------------------------------------------------------------\n",
      "[autogen.oai.client: 09-01 13:39:35] {695} WARNING - Model Qwen3 is not found. The cost will be 0. In your config_list, add field {\"price\" : [prompt_price_per_1k, completion_token_price_per_1k]} for customized pricing.\n",
      "\u001B[33massistant\u001B[0m (to user):\n",
      "\n",
      "<think>\n",
      "Okay, the user is asking \"What’s 3 + 5?\" Let me check if this is a simple calculation. Yes, adding 3 and 5 together. I need to make sure I provide the correct answer. 3 plus 5 equals 8. Since the user mentioned that I should return 'TERMINATE' when the task is done, I should just give the answer and then terminate. Alright, the answer is 8. Let me confirm once more to avoid any mistakes. Yep, 3 + 5 is definitely 8. Time to respond with the answer and terminate.\n",
      "</think>\n",
      "\n",
      "3 + 5 = 8. TERMINATE\n",
      "\n",
      "--------------------------------------------------------------------------------\n",
      "\u001B[31m\n",
      ">>>>>>>> TERMINATING RUN (e273d5d9-80c5-4970-b47e-43b755f56ba4): Termination message condition on agent 'user' met and no human input provided\u001B[0m\n",
      "ChatResult(chat_id=None, chat_history=[{'content': 'What’s 3 + 5?', 'role': 'assistant', 'name': 'user'}, {'content': '<think>\\nOkay, the user is asking \"What’s 3 + 5?\" Let me check if this is a simple calculation. Yes, adding 3 and 5 together. I need to make sure I provide the correct answer. 3 plus 5 equals 8. Since the user mentioned that I should return \\'TERMINATE\\' when the task is done, I should just give the answer and then terminate. Alright, the answer is 8. Let me confirm once more to avoid any mistakes. Yep, 3 + 5 is definitely 8. Time to respond with the answer and terminate.\\n</think>\\n\\n3 + 5 = 8. TERMINATE', 'role': 'user', 'name': 'assistant'}], summary='<think>\\nOkay, the user is asking \"What’s 3 + 5?\" Let me check if this is a simple calculation. Yes, adding 3 and 5 together. I need to make sure I provide the correct answer. 3 plus 5 equals 8. Since the user mentioned that I should return \\'\\' when the task is done, I should just give the answer and then terminate. Alright, the answer is 8. Let me confirm once more to avoid any mistakes. Yep, 3 + 5 is definitely 8. Time to respond with the answer and terminate.\\n</think>\\n\\n3 + 5 = 8. ', cost={'usage_including_cached_inference': {'total_cost': 0, 'Qwen3': {'cost': 0, 'prompt_tokens': 47, 'completion_tokens': 138, 'total_tokens': 185}}, 'usage_excluding_cached_inference': {'total_cost': 0, 'Qwen3': {'cost': 0, 'prompt_tokens': 47, 'completion_tokens': 138, 'total_tokens': 185}}}, human_input=['exit'])\n"
     ]
    }
   ],
   "execution_count": 9
  }
 ],
 "metadata": {
  "kernelspec": {
   "display_name": "Python 3",
   "language": "python",
   "name": "python3"
  },
  "language_info": {
   "codemirror_mode": {
    "name": "ipython",
    "version": 2
   },
   "file_extension": ".py",
   "mimetype": "text/x-python",
   "name": "python",
   "nbconvert_exporter": "python",
   "pygments_lexer": "ipython2",
   "version": "2.7.6"
  }
 },
 "nbformat": 4,
 "nbformat_minor": 5
}
